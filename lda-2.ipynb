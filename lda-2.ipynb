{
 "cells": [
  {
   "cell_type": "code",
   "execution_count": 1,
   "metadata": {},
   "outputs": [
    {
     "name": "stdout",
     "output_type": "stream",
     "text": [
      "   Unnamed: 0.2  Unnamed: 0.1  Unnamed: 0        restaurant    city  \\\n",
      "0             0             0         0.0  Home Slice Pizza  Austin   \n",
      "1             1             1         1.0  Home Slice Pizza  Austin   \n",
      "2             2             2         2.0  Home Slice Pizza  Austin   \n",
      "3             3             3         3.0  Home Slice Pizza  Austin   \n",
      "4             4             4         4.0  Home Slice Pizza  Austin   \n",
      "\n",
      "                                              review  \n",
      "0  Somehow I lived in Austin for 22 years before ...  \n",
      "1  Always the go to for a slice in Austin. Super ...  \n",
      "2  We went on a Sunday night around 9:30pm during...  \n",
      "3  Came in here this past Saturday afternoon arou...  \n",
      "4  Without a side by side comparison available I ...  \n"
     ]
    }
   ],
   "source": [
    "import pandas as pd\n",
    "import nltk\n",
    "from nltk.corpus import stopwords  #stopwords\n",
    "from nltk.stem import WordNetLemmatizer  \n",
    "from nltk.tokenize import word_tokenize\n",
    "#from sklearn.feature_extraction.text import TfidfVectorizer\n",
    "\n",
    "\n",
    "\n",
    "filenames = ['pizza_reviews_file1.csv', 'pizza_reviews_file2.csv', 'pizza_reviews_file3.csv', 'pizza_reviews_file4.csv']\n",
    "rev = pd.concat([pd.read_csv(file) for file in filenames], ignore_index=True)\n",
    "\n",
    "print(rev.head())"
   ]
  },
  {
   "cell_type": "code",
   "execution_count": 2,
   "metadata": {},
   "outputs": [],
   "source": [
    "df = rev[['city','restaurant','review']]"
   ]
  },
  {
   "cell_type": "code",
   "execution_count": 3,
   "metadata": {},
   "outputs": [],
   "source": [
    "import nltk\n",
    "from nltk.corpus import stopwords  #stopwords\n",
    "from nltk.stem import WordNetLemmatizer  \n",
    "from sklearn.feature_extraction.text import TfidfVectorizer\n",
    "stop_words=set(nltk.corpus.stopwords.words('english'))"
   ]
  },
  {
   "cell_type": "code",
   "execution_count": 4,
   "metadata": {},
   "outputs": [
    {
     "name": "stderr",
     "output_type": "stream",
     "text": [
      "[nltk_data] Downloading package omw-1.4 to\n",
      "[nltk_data]     /Users/uditdhand/nltk_data...\n",
      "[nltk_data]   Package omw-1.4 is already up-to-date!\n"
     ]
    },
    {
     "data": {
      "text/plain": [
       "True"
      ]
     },
     "execution_count": 4,
     "metadata": {},
     "output_type": "execute_result"
    }
   ],
   "source": [
    "import nltk\n",
    "nltk.download('omw-1.4')\n"
   ]
  },
  {
   "cell_type": "code",
   "execution_count": 5,
   "metadata": {},
   "outputs": [
    {
     "name": "stderr",
     "output_type": "stream",
     "text": [
      "/var/folders/hg/kqg69xz568l28vnvcx6x09hh0000gn/T/ipykernel_71979/3790745193.py:8: SettingWithCopyWarning: \n",
      "A value is trying to be set on a copy of a slice from a DataFrame.\n",
      "Try using .loc[row_indexer,col_indexer] = value instead\n",
      "\n",
      "See the caveats in the documentation: https://pandas.pydata.org/pandas-docs/stable/user_guide/indexing.html#returning-a-view-versus-a-copy\n",
      "  df['cleaned_text']=df['review'].apply(clean_text)\n"
     ]
    }
   ],
   "source": [
    "def clean_text(headline):\n",
    "      le=WordNetLemmatizer()\n",
    "      word_tokens=word_tokenize(headline)\n",
    "      tokens=[le.lemmatize(w) for w in word_tokens if w not in stop_words and len(w)>3]\n",
    "      cleaned_text=\" \".join(tokens)\n",
    "      return cleaned_text\n",
    "\n",
    "df['cleaned_text']=df['review'].apply(clean_text)"
   ]
  },
  {
   "cell_type": "code",
   "execution_count": 8,
   "metadata": {},
   "outputs": [],
   "source": [
    "vect = TfidfVectorizer(stop_words=list(stop_words), max_features=1000)\n",
    "vect_text=vect.fit_transform(df['cleaned_text'])"
   ]
  },
  {
   "cell_type": "code",
   "execution_count": 19,
   "metadata": {},
   "outputs": [],
   "source": [
    "from sklearn.decomposition import LatentDirichletAllocation\n",
    "lda_model=LatentDirichletAllocation(n_components=10,\n",
    "learning_method='online',random_state=42,max_iter=100) \n",
    "lda_top=lda_model.fit_transform(vect_text)"
   ]
  },
  {
   "cell_type": "code",
   "execution_count": 20,
   "metadata": {},
   "outputs": [
    {
     "name": "stdout",
     "output_type": "stream",
     "text": [
      "Document 0: \n",
      "Topic  0 :  1.506341852159411 %\n",
      "Topic  1 :  6.758228684898897 %\n",
      "Topic  2 :  1.4766144204050073 %\n",
      "Topic  3 :  1.4766376428614434 %\n",
      "Topic  4 :  1.4763482968761255 %\n",
      "Topic  5 :  1.476606272692909 %\n",
      "Topic  6 :  1.477650081562217 %\n",
      "Topic  7 :  81.3984497338227 %\n",
      "Topic  8 :  1.4767773569611664 %\n",
      "Topic  9 :  1.476345657760139 %\n"
     ]
    }
   ],
   "source": [
    "print(\"Document 0: \")\n",
    "for i,topic in enumerate(lda_top[0]):\n",
    "  print(\"Topic \",i,\": \",topic*100,\"%\")"
   ]
  },
  {
   "cell_type": "code",
   "execution_count": 21,
   "metadata": {},
   "outputs": [
    {
     "name": "stdout",
     "output_type": "stream",
     "text": [
      "\n",
      "Topic 0: \n",
      "seattle free gluten gino burger fry pinthouse hole craft worker \n",
      "Topic 1: \n",
      "sandwich miami nonna vegan soup miss regret hand world vegetarian \n",
      "Topic 2: \n",
      "crust pequod sauce cheese slice pepperoni thin pizza crispy plain \n",
      "Topic 3: \n",
      "pizza slice good wait pepperoni worth crust best great place \n",
      "Topic 4: \n",
      "vodka detroit cake potato pudding bolognese girlfriend bacon meatball style \n",
      "Topic 5: \n",
      "great pizza dish deep chicago place beer good food service \n",
      "Topic 6: \n",
      "pizza good place dish time food great deep ordered wait \n",
      "Topic 7: \n",
      "pizza slice place best good pepperoni like crust line square \n",
      "Topic 8: \n",
      "great pizza service food best amazing recommend place staff highly \n",
      "Topic 9: \n",
      "truffle prosciutto calamari beautiful pike fried risotto wood glass fired "
     ]
    }
   ],
   "source": [
    "vocab = vect.get_feature_names_out()\n",
    "for i, comp in enumerate(lda_model.components_):\n",
    "     vocab_comp = zip(vocab, comp)\n",
    "     sorted_words = sorted(vocab_comp, key= lambda x:x[1], reverse=True)[:10]\n",
    "     print(\"\\nTopic \"+str(i)+\": \")\n",
    "     for t in sorted_words:\n",
    "            print(t[0],end=\" \")\n"
   ]
  },
  {
   "cell_type": "markdown",
   "metadata": {},
   "source": [
    "For this set of topics, the interpretations can be as follows:\n",
    "\n",
    "### Topic Interpretations:\n",
    "1. **Topic 0:**\n",
    "   - **Theme:** Dietary Preferences and Seattle's Craft Food.\n",
    "   - **Description:** Focused on Seattle and mentions \"gluten-free\" options, suggesting dietary preferences. Also mentions \"craft,\" possibly related to craft beers or artisanal food, and specific eateries like “Gino” and “Pinthouse.”\n",
    "\n",
    "2. **Topic 1:**\n",
    "   - **Theme:** Vegetarian/Vegan Options and Miami's Cuisine.\n",
    "   - **Description:** References to vegetarian and vegan options like \"vegan soup,\" with mention of Miami and “Nonna,” which might be a specific location or a term for grandmother, possibly reflecting traditional recipes.\n",
    "\n",
    "3. **Topic 2:**\n",
    "   - **Theme:** Pizza Characteristics.\n",
    "   - **Description:** This topic is likely about the qualities and types of pizzas, focusing on crust, sauce, cheese, and toppings like pepperoni. Words like “crispy” and “plain” describe pizza features.\n",
    "\n",
    "4. **Topic 3:**\n",
    "   - **Theme:** Quality and Worth of Pizza.\n",
    "   - **Description:** This topic primarily discusses the goodness and worthiness of waiting for pizza. It covers elements like crust, slices, and pepperoni, denoting different pizza types and their quality.\n",
    "\n",
    "5. **Topic 4:**\n",
    "   - **Theme:** Variety in Menu and Detroit's Cuisine.\n",
    "   - **Description:** Discussing a diverse range of foods like “cake,” “pudding,” “bacon,” “meatball,” and mentions “Detroit,” possibly hinting at specialty dishes or styles from Detroit.\n",
    "\n",
    "6. **Topic 5:**\n",
    "   - **Theme:** Chicago’s Deep Dish and Dining Experience.\n",
    "   - **Description:** Focuses on Chicago’s deep-dish pizza and the overall dining experience, discussing the quality of food, beer, and service.\n",
    "\n",
    "7. **Topic 6:**\n",
    "   - **Theme:** Overall Dining and Ordering Experience.\n",
    "   - **Description:** Discussions revolve around the quality of food, waiting times, and ordered items, possibly reflecting the overall satisfaction or dissatisfaction with the service and food.\n",
    "\n",
    "8. **Topic 7:**\n",
    "   - **Theme:** Pizza Quality and Preferences.\n",
    "   - **Description:** Focuses on the goodness of pizza slices and crust, with mentions of “best,” indicating discussions on personal preferences and the comparison of quality.\n",
    "\n",
    "9. **Topic 8:**\n",
    "   - **Theme:** Highly Recommended Service and Food.\n",
    "   - **Description:** Words like “recommend,” “amazing,” “staff,” “highly,” suggest this topic revolves around the exceptional service and food quality at certain places.\n",
    "\n",
    "10. **Topic 9:**\n",
    "    - **Theme:** Gourmet Ingredients and Cooking Style.\n",
    "    - **Description:** Mentions gourmet ingredients like “truffle” and “prosciutto” and cooking styles like “wood-fired,” indicating discussions about the specialty items and quality of cooking.\n",
    "\n",
    "### Utilization:\n",
    "- These interpretations can help in understanding regional variations in pizza preferences and dining experiences.\n",
    "- The mention of specific cities (e.g., Miami, Detroit, Seattle, and Chicago) can help in understanding the specialties or preferences of those cities or comparing pizza places in different regions.\n",
    "- Additionally, the occurrence of words related to specific dietary needs like \"vegan,\" \"vegetarian,\" and \"gluten-free\" highlights the attention given to diverse food requirements in the reviews.\n",
    "\n",
    "### Further Analysis:\n",
    "- You can delve deeper into each city's specific mentions to see if there is any regional preference or a regional specialty that is highly liked or disliked.\n",
    "- Analyzing the sentiment of the reviews corresponding to each topic will provide more context on whether the topics are discussed in a positive, negative, or neutral manner."
   ]
  },
  {
   "cell_type": "markdown",
   "metadata": {},
   "source": []
  }
 ],
 "metadata": {
  "kernelspec": {
   "display_name": "base",
   "language": "python",
   "name": "python3"
  },
  "language_info": {
   "codemirror_mode": {
    "name": "ipython",
    "version": 3
   },
   "file_extension": ".py",
   "mimetype": "text/x-python",
   "name": "python",
   "nbconvert_exporter": "python",
   "pygments_lexer": "ipython3",
   "version": "3.10.9"
  },
  "orig_nbformat": 4
 },
 "nbformat": 4,
 "nbformat_minor": 2
}
